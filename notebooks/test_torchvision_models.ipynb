{
 "cells": [
  {
   "cell_type": "code",
   "execution_count": 7,
   "id": "b920b1fd-e30c-41f8-9485-4b377b05d64d",
   "metadata": {},
   "outputs": [],
   "source": [
    "import torch\n",
    "import torch.nn as nn\n",
    "import torchvision\n",
    "from torchvision.models import EfficientNet\n",
    "from torchvision.models import efficientnet"
   ]
  },
  {
   "cell_type": "code",
   "execution_count": 17,
   "id": "df8234fb-331e-47cb-a078-e2e3de7db790",
   "metadata": {},
   "outputs": [],
   "source": [
    "input_fp32 = torch.rand(1, 1, 224, 224)"
   ]
  },
  {
   "cell_type": "code",
   "execution_count": 18,
   "id": "9a9335f2-54f1-4137-8744-da8e2b206252",
   "metadata": {},
   "outputs": [],
   "source": [
    "from torchvision.models import efficientnet, EfficientNet_V2_S_Weights\n",
    "\n",
    "env2s = model = efficientnet.efficientnet_v2_s(weights=EfficientNet_V2_S_Weights.IMAGENET1K_V1)\n",
    "env2s.features[0][0] = nn.Conv2d(1, 24, kernel_size=(3, 3), stride=(2, 2), padding=(1, 1), bias=False)\n",
    "env2s.classifier[1] = nn.Linear(in_features=1280, out_features=1000)"
   ]
  },
  {
   "cell_type": "code",
   "execution_count": 39,
   "id": "ebfa9657-bfe6-4606-a4f0-fd3acf661f4c",
   "metadata": {},
   "outputs": [
    {
     "data": {
      "text/plain": [
       "Sequential(\n",
       "  (0): Dropout(p=0.2, inplace=True)\n",
       "  (1): Linear(in_features=1280, out_features=1000, bias=True)\n",
       ")"
      ]
     },
     "execution_count": 39,
     "metadata": {},
     "output_type": "execute_result"
    }
   ],
   "source": [
    "env2s.classifier"
   ]
  },
  {
   "cell_type": "code",
   "execution_count": 21,
   "id": "08b59183-1305-4d34-bb82-7b536534b004",
   "metadata": {},
   "outputs": [
    {
     "name": "stdout",
     "output_type": "stream",
     "text": [
      "CPU times: user 475 ms, sys: 0 ns, total: 475 ms\n",
      "Wall time: 61.8 ms\n"
     ]
    }
   ],
   "source": [
    "%%time\n",
    "out = env2s.forward(input_fp32)"
   ]
  },
  {
   "cell_type": "code",
   "execution_count": 22,
   "id": "6064cb4d-1ae7-4ce4-a124-1963ced8caa3",
   "metadata": {},
   "outputs": [],
   "source": [
    "torch.onnx.export(\n",
    "    env2s,             # model being run\n",
    "    input_fp32,                         # model input (or a tuple for multiple inputs)\n",
    "    'weights/env2s.onnx',   # where to save the model (can be a file or file-like object)\n",
    "    export_params=True,        # store the trained parameter weights inside the model file\n",
    "    opset_version=11,          # the ONNX version to export the model to\n",
    "    #do_constant_folding=True,  # whether to execute constant folding for optimization\n",
    "    #input_names = ['input'],   # the model's input names\n",
    "    #output_names = ['output'], # the model's output names\n",
    "    #example_outputs=traced(input_fp32)\n",
    ")"
   ]
  },
  {
   "cell_type": "code",
   "execution_count": 23,
   "id": "0eb54453-8597-43d0-ade3-e6c3c08e76bb",
   "metadata": {},
   "outputs": [],
   "source": [
    "from torchvision.models import mobilenetv3, MobileNet_V3_Small_Weights\n",
    "\n",
    "mnv3 = mobilenetv3.mobilenet_v3_small(weights=MobileNet_V3_Small_Weights.IMAGENET1K_V1)\n",
    "mnv3.features[0][0] = nn.Conv2d(1, 16, kernel_size=(3, 3), stride=(2, 2), padding=(1, 1), bias=False)\n",
    "mnv3.classifier[3] = nn.Linear(in_features=1024, out_features=1000, bias=True)"
   ]
  },
  {
   "cell_type": "code",
   "execution_count": 38,
   "id": "0d571721-b06f-4588-a213-347bd29e03e3",
   "metadata": {},
   "outputs": [
    {
     "data": {
      "text/plain": [
       "Sequential(\n",
       "  (0): Linear(in_features=576, out_features=1024, bias=True)\n",
       "  (1): Hardswish()\n",
       "  (2): Dropout(p=0.2, inplace=True)\n",
       "  (3): Linear(in_features=1024, out_features=1000, bias=True)\n",
       ")"
      ]
     },
     "execution_count": 38,
     "metadata": {},
     "output_type": "execute_result"
    }
   ],
   "source": [
    "mnv3.classifier"
   ]
  },
  {
   "cell_type": "code",
   "execution_count": 31,
   "id": "4a6a00ce-9029-42f9-913d-87b7e4d9cc3d",
   "metadata": {},
   "outputs": [
    {
     "name": "stdout",
     "output_type": "stream",
     "text": [
      "CPU times: user 67.5 ms, sys: 0 ns, total: 67.5 ms\n",
      "Wall time: 9.41 ms\n"
     ]
    }
   ],
   "source": [
    "%%time\n",
    "out = mnv3.forward(input_fp32)"
   ]
  },
  {
   "cell_type": "code",
   "execution_count": 32,
   "id": "9c308861-a9c3-4982-94f9-792379bcc2ab",
   "metadata": {},
   "outputs": [],
   "source": [
    "torch.onnx.export(\n",
    "    mnv3,             # model being run\n",
    "    input_fp32,                         # model input (or a tuple for multiple inputs)\n",
    "    'weights/mvn3.onnx',   # where to save the model (can be a file or file-like object)\n",
    "    export_params=True,        # store the trained parameter weights inside the model file\n",
    "    opset_version=11,          # the ONNX version to export the model to\n",
    "    #do_constant_folding=True,  # whether to execute constant folding for optimization\n",
    "    #input_names = ['input'],   # the model's input names\n",
    "    #output_names = ['output'], # the model's output names\n",
    "    #example_outputs=traced(input_fp32)\n",
    ")"
   ]
  },
  {
   "cell_type": "code",
   "execution_count": 33,
   "id": "863aeebd-222d-4b01-87ab-4dd3b16fa11a",
   "metadata": {},
   "outputs": [],
   "source": [
    "from torchvision.models import quantization\n",
    "\n",
    "qmvn3 = quantization.mobilenet_v3_large(weights=quantization.MobileNet_V3_Large_QuantizedWeights)\n",
    "qmvn3.features[0][0] = nn.Conv2d(1, 16, kernel_size=(3, 3), stride=(2, 2), padding=(1, 1), bias=False)\n",
    "qmvn3.classifier[3] = nn.Linear(in_features=1280, out_features=1000, bias=True)"
   ]
  },
  {
   "cell_type": "code",
   "execution_count": 40,
   "id": "b4e574de-5952-4528-b41f-2bd0b835ffda",
   "metadata": {},
   "outputs": [
    {
     "data": {
      "text/plain": [
       "Sequential(\n",
       "  (0): Linear(in_features=960, out_features=1280, bias=True)\n",
       "  (1): Hardswish()\n",
       "  (2): Dropout(p=0.2, inplace=True)\n",
       "  (3): Linear(in_features=1280, out_features=1000, bias=True)\n",
       ")"
      ]
     },
     "execution_count": 40,
     "metadata": {},
     "output_type": "execute_result"
    }
   ],
   "source": [
    "qmvn3.classifier"
   ]
  },
  {
   "cell_type": "code",
   "execution_count": 34,
   "id": "19f1f698-facd-4231-b227-7ee2af9fb4c5",
   "metadata": {},
   "outputs": [
    {
     "name": "stdout",
     "output_type": "stream",
     "text": [
      "CPU times: user 123 ms, sys: 0 ns, total: 123 ms\n",
      "Wall time: 18.1 ms\n"
     ]
    }
   ],
   "source": [
    "%%time\n",
    "out = qmvn3.forward(input_fp32)"
   ]
  },
  {
   "cell_type": "code",
   "execution_count": 35,
   "id": "77a4196a-b548-42e4-b6d3-4f2e2e87819d",
   "metadata": {},
   "outputs": [],
   "source": [
    "input_fp32 = torch.rand(1, 1, 224, 224)"
   ]
  },
  {
   "cell_type": "code",
   "execution_count": 36,
   "id": "267045b7-6731-4009-8052-0363d1f743a4",
   "metadata": {},
   "outputs": [],
   "source": [
    "torch.onnx.export(\n",
    "    qmvn3,             # model being run\n",
    "    input_fp32,                         # model input (or a tuple for multiple inputs)\n",
    "    'weights/qmvn3_int8.onnx',   # where to save the model (can be a file or file-like object)\n",
    "    export_params=True,        # store the trained parameter weights inside the model file\n",
    "    opset_version=11,          # the ONNX version to export the model to\n",
    "    #do_constant_folding=True,  # whether to execute constant folding for optimization\n",
    "    #input_names = ['input'],   # the model's input names\n",
    "    #output_names = ['output'], # the model's output names\n",
    "    #example_outputs=traced(input_fp32)\n",
    ")"
   ]
  },
  {
   "cell_type": "code",
   "execution_count": null,
   "id": "bb3fc336-8e81-4cae-986b-b96c2d084ef0",
   "metadata": {},
   "outputs": [],
   "source": []
  },
  {
   "cell_type": "code",
   "execution_count": null,
   "id": "4aef115a-2ba7-44f9-b0be-bedfbc5d27f2",
   "metadata": {},
   "outputs": [],
   "source": []
  }
 ],
 "metadata": {
  "kernelspec": {
   "display_name": "Python 3 (ipykernel)",
   "language": "python",
   "name": "python3"
  },
  "language_info": {
   "codemirror_mode": {
    "name": "ipython",
    "version": 3
   },
   "file_extension": ".py",
   "mimetype": "text/x-python",
   "name": "python",
   "nbconvert_exporter": "python",
   "pygments_lexer": "ipython3",
   "version": "3.9.12"
  }
 },
 "nbformat": 4,
 "nbformat_minor": 5
}
