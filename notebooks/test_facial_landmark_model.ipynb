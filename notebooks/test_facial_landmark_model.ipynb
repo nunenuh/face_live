{
 "cells": [
  {
   "cell_type": "code",
   "execution_count": 5,
   "id": "95f7c363-4541-4833-a3f1-de36406cb672",
   "metadata": {},
   "outputs": [],
   "source": [
    "import torch\n",
    "from facelive.models import landmark"
   ]
  },
  {
   "cell_type": "code",
   "execution_count": 3,
   "id": "abb83e59-782a-4ab7-b6ff-f0d8d69f41b0",
   "metadata": {},
   "outputs": [],
   "source": [
    "flnet = landmark.FacialLandmark(landmark.efficientnet_v2_s(), num_classes=68)"
   ]
  },
  {
   "cell_type": "code",
   "execution_count": 6,
   "id": "a391b75c-2a30-4872-905b-5cfe88836d33",
   "metadata": {},
   "outputs": [
    {
     "data": {
      "text/plain": [
       "tensor([[-0.0666,  0.0493,  0.0572, -0.0377, -0.0267, -0.0459,  0.0194,  0.0544,\n",
       "          0.0499,  0.0619, -0.0136,  0.0471,  0.0781,  0.0738,  0.0643, -0.0576,\n",
       "         -0.0700, -0.0445, -0.0563, -0.0010,  0.0349,  0.0390,  0.0236, -0.0153,\n",
       "          0.0234,  0.0699, -0.0687, -0.0018, -0.0150,  0.0346, -0.0099,  0.0031,\n",
       "         -0.0351,  0.0038,  0.0492, -0.0421,  0.0442,  0.0423, -0.0428,  0.0624,\n",
       "          0.0343, -0.0175, -0.0192,  0.0370, -0.0697,  0.0573, -0.0642,  0.0770,\n",
       "         -0.0531, -0.0701, -0.0101,  0.0524, -0.0253,  0.0532,  0.0730,  0.0310,\n",
       "          0.1335,  0.0528,  0.0578, -0.0684,  0.0031, -0.0211, -0.0891, -0.0100,\n",
       "         -0.0925, -0.0010,  0.0291, -0.0836]], grad_fn=<AddmmBackward0>)"
      ]
     },
     "execution_count": 6,
     "metadata": {},
     "output_type": "execute_result"
    }
   ],
   "source": [
    "flnet(torch.rand(1,1,224,224))"
   ]
  },
  {
   "cell_type": "code",
   "execution_count": null,
   "id": "bc899a25-f7b1-4843-8fd7-ce93d442e5bd",
   "metadata": {},
   "outputs": [],
   "source": []
  }
 ],
 "metadata": {
  "kernelspec": {
   "display_name": "Python 3 (ipykernel)",
   "language": "python",
   "name": "python3"
  },
  "language_info": {
   "codemirror_mode": {
    "name": "ipython",
    "version": 3
   },
   "file_extension": ".py",
   "mimetype": "text/x-python",
   "name": "python",
   "nbconvert_exporter": "python",
   "pygments_lexer": "ipython3",
   "version": "3.9.12"
  }
 },
 "nbformat": 4,
 "nbformat_minor": 5
}
